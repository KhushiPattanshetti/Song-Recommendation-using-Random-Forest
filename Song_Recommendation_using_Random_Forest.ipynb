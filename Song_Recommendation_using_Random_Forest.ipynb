{
  "nbformat": 4,
  "nbformat_minor": 0,
  "metadata": {
    "colab": {
      "provenance": []
    },
    "kernelspec": {
      "name": "python3",
      "display_name": "Python 3"
    },
    "language_info": {
      "name": "python"
    }
  },
  "cells": [
    {
      "cell_type": "code",
      "execution_count": null,
      "metadata": {
        "id": "24wfX5o5ItAt"
      },
      "outputs": [],
      "source": [
        "\n",
        "import pandas as pd\n",
        "import numpy as np\n",
        "from sklearn.model_selection import train_test_split, KFold\n",
        "from sklearn.preprocessing import MinMaxScaler, LabelEncoder\n",
        "from sklearn.ensemble import RandomForestClassifier\n",
        "from sklearn.metrics import accuracy_score, precision_score, recall_score, f1_score\n",
        "from tensorflow.keras.models import Sequential\n",
        "from tensorflow.keras.layers import Dense, Dropout\n",
        "from tensorflow.keras.utils import to_categorical"
      ]
    },
    {
      "cell_type": "code",
      "source": [
        " data = pd.read_csv('genres_v2.csv')  # Replace with the correct path\n",
        "\n",
        "# Drop unnecessary columns\n",
        "columns_to_drop = ['id', 'uri', 'track_href', 'analysis_url', 'Unnamed: 0', 'title', 'song_name']\n",
        "data_cleaned = data.drop(columns=columns_to_drop, errors='ignore')\n",
        "\n",
        "# Drop rows with missing values\n",
        "data_cleaned.dropna(inplace=True)\n",
        "\n",
        "# Select numerical features and target\n",
        "numerical_features = ['danceability', 'energy', 'key', 'loudness', 'speechiness',\n",
        "                      'acousticness', 'instrumentalness', 'liveness', 'valence',\n",
        "                      'tempo', 'duration_ms', 'time_signature']\n",
        "target_column = 'genre'\n",
        "\n",
        "# Extract features (X) and target (y)\n",
        "X = data_cleaned[numerical_features]\n",
        "y = data_cleaned[target_column]\n",
        "\n",
        "# Normalize features using Min-Max scaling\n",
        "scaler = MinMaxScaler()\n",
        "X_scaled = scaler.fit_transform(X)\n",
        "\n",
        "# Encode target labels\n",
        "label_encoder = LabelEncoder()\n",
        "y_encoded = label_encoder.fit_transform(y)\n",
        "\n",
        "# One-hot encode target labels for deep learning\n",
        "y_onehot = to_categorical(y_encoded)\n",
        "\n",
        "# Split data into training and testing sets\n",
        "X_train, X_test, y_train, y_test = train_test_split(X_scaled, y_onehot, test_size=0.1, random_state=42)\n",
        "3\n"
      ],
      "metadata": {
        "colab": {
          "base_uri": "https://localhost:8080/"
        },
        "id": "2aKVneruKurc",
        "outputId": "cf436ac9-12c8-4cc4-8be7-743142949b90"
      },
      "execution_count": null,
      "outputs": [
        {
          "output_type": "stream",
          "name": "stderr",
          "text": [
            "<ipython-input-14-a31202dedc78>:1: DtypeWarning: Columns (19) have mixed types. Specify dtype option on import or set low_memory=False.\n",
            "  data = pd.read_csv('genres_v2.csv')  # Replace with the correct path\n"
          ]
        },
        {
          "output_type": "execute_result",
          "data": {
            "text/plain": [
              "3"
            ]
          },
          "metadata": {},
          "execution_count": 14
        }
      ]
    },
    {
      "cell_type": "code",
      "source": [
        "rf = RandomForestClassifier(n_estimators=100, random_state=42)\n",
        "rf.fit(X_train, np.argmax(y_train, axis=1))  # Use numerical labels for Random Forest\n",
        "\n",
        "# Predict on the test set\n",
        "y_pred_rf = rf.predict(X_test)\n",
        "\n",
        "# Evaluate Random Forest performance\n",
        "accuracy_rf = accuracy_score(np.argmax(y_test, axis=1), y_pred_rf)\n",
        "precision_rf = precision_score(np.argmax(y_test, axis=1), y_pred_rf, average='weighted')\n",
        "recall_rf = recall_score(np.argmax(y_test, axis=1), y_pred_rf, average='weighted')\n",
        "f1_rf = f1_score(np.argmax(y_test, axis=1), y_pred_rf, average='weighted')\n",
        "\n",
        "print(f\"Random Forest - Accuracy: {accuracy_rf}, Precision: {precision_rf}, Recall: {recall_rf}, F1: {f1_rf}\")"
      ],
      "metadata": {
        "colab": {
          "base_uri": "https://localhost:8080/"
        },
        "id": "NSWVT-ngK3Fd",
        "outputId": "54562551-df2b-4ccd-be47-aa97ff95835c"
      },
      "execution_count": null,
      "outputs": [
        {
          "output_type": "stream",
          "name": "stdout",
          "text": [
            "Random Forest - Accuracy: 0.6707634129047506, Precision: 0.6693808927022121, Recall: 0.6707634129047506, F1: 0.665851053057167\n"
          ]
        }
      ]
    },
    {
      "cell_type": "code",
      "source": [
        "# Build a Neural Network\n",
        "model = Sequential([\n",
        "    Dense(128, activation='relu', input_shape=(X_train.shape[1],)),\n",
        "    Dropout(0.3),\n",
        "    Dense(64, activation='relu'),\n",
        "    Dropout(0.3),\n",
        "    Dense(y_train.shape[1], activation='softmax')  # Output layer\n",
        "])\n",
        "\n",
        "# Compile the model\n",
        "model.compile(optimizer='adam', loss='categorical_crossentropy', metrics=['accuracy'])\n",
        "\n",
        "# Train the model\n",
        "history = model.fit(X_train, y_train, epochs=50, batch_size=64, validation_split=0.1, verbose=1)\n",
        "\n",
        "# Evaluate the model\n",
        "test_loss, test_accuracy = model.evaluate(X_test, y_test, verbose=0)\n",
        "print(f\"Neural Network - Test Accuracy: {test_accuracy}\")"
      ],
      "metadata": {
        "colab": {
          "base_uri": "https://localhost:8080/"
        },
        "id": "KG8CUbwxK_xR",
        "outputId": "f837ba3f-a336-414e-9887-a3db4ff04126"
      },
      "execution_count": null,
      "outputs": [
        {
          "output_type": "stream",
          "name": "stderr",
          "text": [
            "/usr/local/lib/python3.10/dist-packages/keras/src/layers/core/dense.py:87: UserWarning: Do not pass an `input_shape`/`input_dim` argument to a layer. When using Sequential models, prefer using an `Input(shape)` object as the first layer in the model instead.\n",
            "  super().__init__(activity_regularizer=activity_regularizer, **kwargs)\n"
          ]
        },
        {
          "output_type": "stream",
          "name": "stdout",
          "text": [
            "Epoch 1/50\n",
            "\u001b[1m536/536\u001b[0m \u001b[32m━━━━━━━━━━━━━━━━━━━━\u001b[0m\u001b[37m\u001b[0m \u001b[1m4s\u001b[0m 5ms/step - accuracy: 0.2441 - loss: 2.2423 - val_accuracy: 0.4730 - val_loss: 1.5551\n",
            "Epoch 2/50\n",
            "\u001b[1m536/536\u001b[0m \u001b[32m━━━━━━━━━━━━━━━━━━━━\u001b[0m\u001b[37m\u001b[0m \u001b[1m2s\u001b[0m 4ms/step - accuracy: 0.4337 - loss: 1.6332 - val_accuracy: 0.5305 - val_loss: 1.3882\n",
            "Epoch 3/50\n",
            "\u001b[1m536/536\u001b[0m \u001b[32m━━━━━━━━━━━━━━━━━━━━\u001b[0m\u001b[37m\u001b[0m \u001b[1m2s\u001b[0m 3ms/step - accuracy: 0.4843 - loss: 1.4924 - val_accuracy: 0.5565 - val_loss: 1.3041\n",
            "Epoch 4/50\n",
            "\u001b[1m536/536\u001b[0m \u001b[32m━━━━━━━━━━━━━━━━━━━━\u001b[0m\u001b[37m\u001b[0m \u001b[1m1s\u001b[0m 2ms/step - accuracy: 0.5123 - loss: 1.4207 - val_accuracy: 0.5885 - val_loss: 1.2372\n",
            "Epoch 5/50\n",
            "\u001b[1m536/536\u001b[0m \u001b[32m━━━━━━━━━━━━━━━━━━━━\u001b[0m\u001b[37m\u001b[0m \u001b[1m1s\u001b[0m 2ms/step - accuracy: 0.5406 - loss: 1.3402 - val_accuracy: 0.5990 - val_loss: 1.1822\n",
            "Epoch 6/50\n",
            "\u001b[1m536/536\u001b[0m \u001b[32m━━━━━━━━━━━━━━━━━━━━\u001b[0m\u001b[37m\u001b[0m \u001b[1m1s\u001b[0m 2ms/step - accuracy: 0.5490 - loss: 1.3031 - val_accuracy: 0.6061 - val_loss: 1.1415\n",
            "Epoch 7/50\n",
            "\u001b[1m536/536\u001b[0m \u001b[32m━━━━━━━━━━━━━━━━━━━━\u001b[0m\u001b[37m\u001b[0m \u001b[1m1s\u001b[0m 2ms/step - accuracy: 0.5628 - loss: 1.2610 - val_accuracy: 0.6148 - val_loss: 1.1067\n",
            "Epoch 8/50\n",
            "\u001b[1m536/536\u001b[0m \u001b[32m━━━━━━━━━━━━━━━━━━━━\u001b[0m\u001b[37m\u001b[0m \u001b[1m1s\u001b[0m 2ms/step - accuracy: 0.5824 - loss: 1.2208 - val_accuracy: 0.6203 - val_loss: 1.0805\n",
            "Epoch 9/50\n",
            "\u001b[1m536/536\u001b[0m \u001b[32m━━━━━━━━━━━━━━━━━━━━\u001b[0m\u001b[37m\u001b[0m \u001b[1m1s\u001b[0m 2ms/step - accuracy: 0.5873 - loss: 1.1929 - val_accuracy: 0.6263 - val_loss: 1.0710\n",
            "Epoch 10/50\n",
            "\u001b[1m536/536\u001b[0m \u001b[32m━━━━━━━━━━━━━━━━━━━━\u001b[0m\u001b[37m\u001b[0m \u001b[1m1s\u001b[0m 2ms/step - accuracy: 0.5882 - loss: 1.1797 - val_accuracy: 0.6321 - val_loss: 1.0477\n",
            "Epoch 11/50\n",
            "\u001b[1m536/536\u001b[0m \u001b[32m━━━━━━━━━━━━━━━━━━━━\u001b[0m\u001b[37m\u001b[0m \u001b[1m1s\u001b[0m 2ms/step - accuracy: 0.5898 - loss: 1.1630 - val_accuracy: 0.6363 - val_loss: 1.0332\n",
            "Epoch 12/50\n",
            "\u001b[1m536/536\u001b[0m \u001b[32m━━━━━━━━━━━━━━━━━━━━\u001b[0m\u001b[37m\u001b[0m \u001b[1m2s\u001b[0m 3ms/step - accuracy: 0.5931 - loss: 1.1597 - val_accuracy: 0.6379 - val_loss: 1.0168\n",
            "Epoch 13/50\n",
            "\u001b[1m536/536\u001b[0m \u001b[32m━━━━━━━━━━━━━━━━━━━━\u001b[0m\u001b[37m\u001b[0m \u001b[1m3s\u001b[0m 3ms/step - accuracy: 0.5971 - loss: 1.1454 - val_accuracy: 0.6429 - val_loss: 1.0174\n",
            "Epoch 14/50\n",
            "\u001b[1m536/536\u001b[0m \u001b[32m━━━━━━━━━━━━━━━━━━━━\u001b[0m\u001b[37m\u001b[0m \u001b[1m2s\u001b[0m 2ms/step - accuracy: 0.6053 - loss: 1.1246 - val_accuracy: 0.6513 - val_loss: 1.0006\n",
            "Epoch 15/50\n",
            "\u001b[1m536/536\u001b[0m \u001b[32m━━━━━━━━━━━━━━━━━━━━\u001b[0m\u001b[37m\u001b[0m \u001b[1m1s\u001b[0m 2ms/step - accuracy: 0.6000 - loss: 1.1223 - val_accuracy: 0.6415 - val_loss: 0.9997\n",
            "Epoch 16/50\n",
            "\u001b[1m536/536\u001b[0m \u001b[32m━━━━━━━━━━━━━━━━━━━━\u001b[0m\u001b[37m\u001b[0m \u001b[1m1s\u001b[0m 2ms/step - accuracy: 0.6069 - loss: 1.1129 - val_accuracy: 0.6484 - val_loss: 0.9871\n",
            "Epoch 17/50\n",
            "\u001b[1m536/536\u001b[0m \u001b[32m━━━━━━━━━━━━━━━━━━━━\u001b[0m\u001b[37m\u001b[0m \u001b[1m1s\u001b[0m 2ms/step - accuracy: 0.6067 - loss: 1.0994 - val_accuracy: 0.6534 - val_loss: 0.9801\n",
            "Epoch 18/50\n",
            "\u001b[1m536/536\u001b[0m \u001b[32m━━━━━━━━━━━━━━━━━━━━\u001b[0m\u001b[37m\u001b[0m \u001b[1m1s\u001b[0m 2ms/step - accuracy: 0.6103 - loss: 1.0955 - val_accuracy: 0.6599 - val_loss: 0.9762\n",
            "Epoch 19/50\n",
            "\u001b[1m536/536\u001b[0m \u001b[32m━━━━━━━━━━━━━━━━━━━━\u001b[0m\u001b[37m\u001b[0m \u001b[1m1s\u001b[0m 2ms/step - accuracy: 0.6229 - loss: 1.0806 - val_accuracy: 0.6568 - val_loss: 0.9671\n",
            "Epoch 20/50\n",
            "\u001b[1m536/536\u001b[0m \u001b[32m━━━━━━━━━━━━━━━━━━━━\u001b[0m\u001b[37m\u001b[0m \u001b[1m1s\u001b[0m 2ms/step - accuracy: 0.6198 - loss: 1.0820 - val_accuracy: 0.6607 - val_loss: 0.9646\n",
            "Epoch 21/50\n",
            "\u001b[1m536/536\u001b[0m \u001b[32m━━━━━━━━━━━━━━━━━━━━\u001b[0m\u001b[37m\u001b[0m \u001b[1m1s\u001b[0m 2ms/step - accuracy: 0.6238 - loss: 1.0611 - val_accuracy: 0.6523 - val_loss: 0.9653\n",
            "Epoch 22/50\n",
            "\u001b[1m536/536\u001b[0m \u001b[32m━━━━━━━━━━━━━━━━━━━━\u001b[0m\u001b[37m\u001b[0m \u001b[1m2s\u001b[0m 3ms/step - accuracy: 0.6196 - loss: 1.0801 - val_accuracy: 0.6581 - val_loss: 0.9642\n",
            "Epoch 23/50\n",
            "\u001b[1m536/536\u001b[0m \u001b[32m━━━━━━━━━━━━━━━━━━━━\u001b[0m\u001b[37m\u001b[0m \u001b[1m3s\u001b[0m 4ms/step - accuracy: 0.6207 - loss: 1.0725 - val_accuracy: 0.6599 - val_loss: 0.9677\n",
            "Epoch 24/50\n",
            "\u001b[1m536/536\u001b[0m \u001b[32m━━━━━━━━━━━━━━━━━━━━\u001b[0m\u001b[37m\u001b[0m \u001b[1m2s\u001b[0m 2ms/step - accuracy: 0.6259 - loss: 1.0664 - val_accuracy: 0.6552 - val_loss: 0.9593\n",
            "Epoch 25/50\n",
            "\u001b[1m536/536\u001b[0m \u001b[32m━━━━━━━━━━━━━━━━━━━━\u001b[0m\u001b[37m\u001b[0m \u001b[1m1s\u001b[0m 2ms/step - accuracy: 0.6242 - loss: 1.0672 - val_accuracy: 0.6607 - val_loss: 0.9482\n",
            "Epoch 26/50\n",
            "\u001b[1m536/536\u001b[0m \u001b[32m━━━━━━━━━━━━━━━━━━━━\u001b[0m\u001b[37m\u001b[0m \u001b[1m1s\u001b[0m 2ms/step - accuracy: 0.6255 - loss: 1.0520 - val_accuracy: 0.6615 - val_loss: 0.9501\n",
            "Epoch 27/50\n",
            "\u001b[1m536/536\u001b[0m \u001b[32m━━━━━━━━━━━━━━━━━━━━\u001b[0m\u001b[37m\u001b[0m \u001b[1m1s\u001b[0m 2ms/step - accuracy: 0.6268 - loss: 1.0530 - val_accuracy: 0.6654 - val_loss: 0.9489\n",
            "Epoch 28/50\n",
            "\u001b[1m536/536\u001b[0m \u001b[32m━━━━━━━━━━━━━━━━━━━━\u001b[0m\u001b[37m\u001b[0m \u001b[1m1s\u001b[0m 2ms/step - accuracy: 0.6213 - loss: 1.0552 - val_accuracy: 0.6620 - val_loss: 0.9495\n",
            "Epoch 29/50\n",
            "\u001b[1m536/536\u001b[0m \u001b[32m━━━━━━━━━━━━━━━━━━━━\u001b[0m\u001b[37m\u001b[0m \u001b[1m1s\u001b[0m 2ms/step - accuracy: 0.6316 - loss: 1.0462 - val_accuracy: 0.6670 - val_loss: 0.9389\n",
            "Epoch 30/50\n",
            "\u001b[1m536/536\u001b[0m \u001b[32m━━━━━━━━━━━━━━━━━━━━\u001b[0m\u001b[37m\u001b[0m \u001b[1m1s\u001b[0m 2ms/step - accuracy: 0.6267 - loss: 1.0478 - val_accuracy: 0.6691 - val_loss: 0.9391\n",
            "Epoch 31/50\n",
            "\u001b[1m536/536\u001b[0m \u001b[32m━━━━━━━━━━━━━━━━━━━━\u001b[0m\u001b[37m\u001b[0m \u001b[1m1s\u001b[0m 3ms/step - accuracy: 0.6309 - loss: 1.0322 - val_accuracy: 0.6633 - val_loss: 0.9383\n",
            "Epoch 32/50\n",
            "\u001b[1m536/536\u001b[0m \u001b[32m━━━━━━━━━━━━━━━━━━━━\u001b[0m\u001b[37m\u001b[0m \u001b[1m2s\u001b[0m 4ms/step - accuracy: 0.6285 - loss: 1.0406 - val_accuracy: 0.6696 - val_loss: 0.9289\n",
            "Epoch 33/50\n",
            "\u001b[1m536/536\u001b[0m \u001b[32m━━━━━━━━━━━━━━━━━━━━\u001b[0m\u001b[37m\u001b[0m \u001b[1m2s\u001b[0m 3ms/step - accuracy: 0.6368 - loss: 1.0298 - val_accuracy: 0.6699 - val_loss: 0.9304\n",
            "Epoch 34/50\n",
            "\u001b[1m536/536\u001b[0m \u001b[32m━━━━━━━━━━━━━━━━━━━━\u001b[0m\u001b[37m\u001b[0m \u001b[1m2s\u001b[0m 2ms/step - accuracy: 0.6315 - loss: 1.0415 - val_accuracy: 0.6657 - val_loss: 0.9319\n",
            "Epoch 35/50\n",
            "\u001b[1m536/536\u001b[0m \u001b[32m━━━━━━━━━━━━━━━━━━━━\u001b[0m\u001b[37m\u001b[0m \u001b[1m1s\u001b[0m 2ms/step - accuracy: 0.6321 - loss: 1.0398 - val_accuracy: 0.6717 - val_loss: 0.9310\n",
            "Epoch 36/50\n",
            "\u001b[1m536/536\u001b[0m \u001b[32m━━━━━━━━━━━━━━━━━━━━\u001b[0m\u001b[37m\u001b[0m \u001b[1m1s\u001b[0m 2ms/step - accuracy: 0.6352 - loss: 1.0388 - val_accuracy: 0.6670 - val_loss: 0.9273\n",
            "Epoch 37/50\n",
            "\u001b[1m536/536\u001b[0m \u001b[32m━━━━━━━━━━━━━━━━━━━━\u001b[0m\u001b[37m\u001b[0m \u001b[1m1s\u001b[0m 2ms/step - accuracy: 0.6311 - loss: 1.0399 - val_accuracy: 0.6699 - val_loss: 0.9250\n",
            "Epoch 38/50\n",
            "\u001b[1m536/536\u001b[0m \u001b[32m━━━━━━━━━━━━━━━━━━━━\u001b[0m\u001b[37m\u001b[0m \u001b[1m1s\u001b[0m 2ms/step - accuracy: 0.6298 - loss: 1.0462 - val_accuracy: 0.6665 - val_loss: 0.9249\n",
            "Epoch 39/50\n",
            "\u001b[1m536/536\u001b[0m \u001b[32m━━━━━━━━━━━━━━━━━━━━\u001b[0m\u001b[37m\u001b[0m \u001b[1m1s\u001b[0m 2ms/step - accuracy: 0.6309 - loss: 1.0406 - val_accuracy: 0.6686 - val_loss: 0.9238\n",
            "Epoch 40/50\n",
            "\u001b[1m536/536\u001b[0m \u001b[32m━━━━━━━━━━━━━━━━━━━━\u001b[0m\u001b[37m\u001b[0m \u001b[1m1s\u001b[0m 2ms/step - accuracy: 0.6374 - loss: 1.0191 - val_accuracy: 0.6731 - val_loss: 0.9194\n",
            "Epoch 41/50\n",
            "\u001b[1m536/536\u001b[0m \u001b[32m━━━━━━━━━━━━━━━━━━━━\u001b[0m\u001b[37m\u001b[0m \u001b[1m2s\u001b[0m 3ms/step - accuracy: 0.6349 - loss: 1.0281 - val_accuracy: 0.6712 - val_loss: 0.9209\n",
            "Epoch 42/50\n",
            "\u001b[1m536/536\u001b[0m \u001b[32m━━━━━━━━━━━━━━━━━━━━\u001b[0m\u001b[37m\u001b[0m \u001b[1m2s\u001b[0m 3ms/step - accuracy: 0.6352 - loss: 1.0246 - val_accuracy: 0.6715 - val_loss: 0.9194\n",
            "Epoch 43/50\n",
            "\u001b[1m536/536\u001b[0m \u001b[32m━━━━━━━━━━━━━━━━━━━━\u001b[0m\u001b[37m\u001b[0m \u001b[1m2s\u001b[0m 3ms/step - accuracy: 0.6361 - loss: 1.0203 - val_accuracy: 0.6644 - val_loss: 0.9259\n",
            "Epoch 44/50\n",
            "\u001b[1m536/536\u001b[0m \u001b[32m━━━━━━━━━━━━━━━━━━━━\u001b[0m\u001b[37m\u001b[0m \u001b[1m2s\u001b[0m 2ms/step - accuracy: 0.6335 - loss: 1.0274 - val_accuracy: 0.6720 - val_loss: 0.9183\n",
            "Epoch 45/50\n",
            "\u001b[1m536/536\u001b[0m \u001b[32m━━━━━━━━━━━━━━━━━━━━\u001b[0m\u001b[37m\u001b[0m \u001b[1m1s\u001b[0m 2ms/step - accuracy: 0.6405 - loss: 1.0182 - val_accuracy: 0.6673 - val_loss: 0.9264\n",
            "Epoch 46/50\n",
            "\u001b[1m536/536\u001b[0m \u001b[32m━━━━━━━━━━━━━━━━━━━━\u001b[0m\u001b[37m\u001b[0m \u001b[1m1s\u001b[0m 2ms/step - accuracy: 0.6360 - loss: 1.0145 - val_accuracy: 0.6731 - val_loss: 0.9209\n",
            "Epoch 47/50\n",
            "\u001b[1m536/536\u001b[0m \u001b[32m━━━━━━━━━━━━━━━━━━━━\u001b[0m\u001b[37m\u001b[0m \u001b[1m1s\u001b[0m 2ms/step - accuracy: 0.6394 - loss: 1.0156 - val_accuracy: 0.6723 - val_loss: 0.9248\n",
            "Epoch 48/50\n",
            "\u001b[1m536/536\u001b[0m \u001b[32m━━━━━━━━━━━━━━━━━━━━\u001b[0m\u001b[37m\u001b[0m \u001b[1m1s\u001b[0m 2ms/step - accuracy: 0.6407 - loss: 1.0217 - val_accuracy: 0.6749 - val_loss: 0.9105\n",
            "Epoch 49/50\n",
            "\u001b[1m536/536\u001b[0m \u001b[32m━━━━━━━━━━━━━━━━━━━━\u001b[0m\u001b[37m\u001b[0m \u001b[1m1s\u001b[0m 2ms/step - accuracy: 0.6307 - loss: 1.0309 - val_accuracy: 0.6744 - val_loss: 0.9084\n",
            "Epoch 50/50\n",
            "\u001b[1m536/536\u001b[0m \u001b[32m━━━━━━━━━━━━━━━━━━━━\u001b[0m\u001b[37m\u001b[0m \u001b[1m1s\u001b[0m 2ms/step - accuracy: 0.6428 - loss: 1.0012 - val_accuracy: 0.6754 - val_loss: 0.9109\n",
            "Neural Network - Test Accuracy: 0.6705270409584045\n"
          ]
        }
      ]
    },
    {
      "cell_type": "code",
      "source": [
        "# Neural Network Predictions\n",
        "y_pred_nn = np.argmax(model.predict(X_test), axis=1)\n",
        "\n",
        "# Random Forest Results\n",
        "print(f\"Random Forest Metrics:\\n\"\n",
        "      f\"Accuracy: {accuracy_rf}, Precision: {precision_rf}, Recall: {recall_rf}, F1 Score: {f1_rf}\")\n",
        "\n",
        "# Neural Network Classification Report\n",
        "from sklearn.metrics import classification_report\n",
        "print(\"Neural Network Classification Report:\")\n",
        "print(classification_report(np.argmax(y_test, axis=1), y_pred_nn))\n"
      ],
      "metadata": {
        "colab": {
          "base_uri": "https://localhost:8080/"
        },
        "id": "NM7TyhwfLEKq",
        "outputId": "8253af87-07a2-436b-8627-a9c3db3babe9"
      },
      "execution_count": null,
      "outputs": [
        {
          "output_type": "stream",
          "name": "stdout",
          "text": [
            "\u001b[1m133/133\u001b[0m \u001b[32m━━━━━━━━━━━━━━━━━━━━\u001b[0m\u001b[37m\u001b[0m \u001b[1m1s\u001b[0m 3ms/step\n",
            "Random Forest Metrics:\n",
            "Accuracy: 0.6707634129047506, Precision: 0.6693808927022121, Recall: 0.6707634129047506, F1 Score: 0.665851053057167\n",
            "Neural Network Classification Report:\n",
            "              precision    recall  f1-score   support\n",
            "\n",
            "           0       0.64      0.38      0.48       484\n",
            "           1       0.60      0.63      0.62       177\n",
            "           2       0.59      0.36      0.44       312\n",
            "           3       0.50      0.02      0.03        60\n",
            "           4       0.70      0.25      0.37       165\n",
            "           5       0.41      0.38      0.39       196\n",
            "           6       0.60      0.29      0.39       178\n",
            "           7       0.43      0.78      0.56       592\n",
            "           8       0.93      0.97      0.95       298\n",
            "           9       0.81      0.92      0.86       308\n",
            "          10       0.93      0.87      0.90       295\n",
            "          11       0.78      0.91      0.84       273\n",
            "          12       0.85      0.75      0.80       318\n",
            "          13       0.73      0.88      0.80       289\n",
            "          14       0.81      0.79      0.80       286\n",
            "\n",
            "    accuracy                           0.67      4231\n",
            "   macro avg       0.69      0.61      0.62      4231\n",
            "weighted avg       0.69      0.67      0.66      4231\n",
            "\n"
          ]
        }
      ]
    },
    {
      "cell_type": "code",
      "source": [
        "import joblib\n",
        "# Save Random Forest model\n",
        "joblib.dump(rf, 'random_forest_genre.pkl')\n",
        "\n",
        "# Save Neural Network model\n",
        "model.save('neural_network_genre.h5')"
      ],
      "metadata": {
        "colab": {
          "base_uri": "https://localhost:8080/"
        },
        "id": "ZGx-jzq0LILR",
        "outputId": "8f3ff3ba-3781-4fdd-d48d-882f79259ce5"
      },
      "execution_count": null,
      "outputs": [
        {
          "output_type": "stream",
          "name": "stderr",
          "text": [
            "WARNING:absl:You are saving your model as an HDF5 file via `model.save()` or `keras.saving.save_model(model)`. This file format is considered legacy. We recommend using instead the native Keras format, e.g. `model.save('my_model.keras')` or `keras.saving.save_model(model, 'my_model.keras')`. \n"
          ]
        }
      ]
    },
    {
      "cell_type": "code",
      "source": [
        "#Load Random Forest model\n",
        "rf = joblib.load('random_forest_genre.pkl')\n",
        "\n",
        "# Predict on new data (ensure it's preprocessed like X_test)\n",
        "new_data = np.array([[0.7, 0.8, 5, -5, 0.2, 0.6, 0.0, 0.1, 0.9, 120, 200000, 4]])\n",
        "new_data_scaled = scaler.transform(new_data)\n",
        "predicted_genre_rf = label_encoder.inverse_transform(rf.predict(new_data_scaled))\n",
        "print(f\"Predicted Genre (Random Forest): {predicted_genre_rf}\")\n",
        "\n",
        "# Load Neural Network model\n",
        "from tensorflow.keras.models import load_model\n",
        "model = load_model('neural_network_genre.h5')\n",
        "\n",
        "# Predict with Neural Network\n",
        "predicted_genre_nn = label_encoder.inverse_transform(np.argmax(model.predict(new_data_scaled), axis=1))\n",
        "print(f\"Predicted Genre (Neural Network): {predicted_genre_nn}\")"
      ],
      "metadata": {
        "colab": {
          "base_uri": "https://localhost:8080/"
        },
        "id": "AlGnqQhrLRZW",
        "outputId": "e65992e4-48b7-45b0-f3ce-8f700a1b2f1d"
      },
      "execution_count": null,
      "outputs": [
        {
          "output_type": "stream",
          "name": "stderr",
          "text": [
            "/usr/local/lib/python3.10/dist-packages/sklearn/base.py:493: UserWarning: X does not have valid feature names, but MinMaxScaler was fitted with feature names\n",
            "  warnings.warn(\n",
            "WARNING:absl:Compiled the loaded model, but the compiled metrics have yet to be built. `model.compile_metrics` will be empty until you train or evaluate the model.\n"
          ]
        },
        {
          "output_type": "stream",
          "name": "stdout",
          "text": [
            "Predicted Genre (Random Forest): ['Underground Rap']\n",
            "\u001b[1m1/1\u001b[0m \u001b[32m━━━━━━━━━━━━━━━━━━━━\u001b[0m\u001b[37m\u001b[0m \u001b[1m0s\u001b[0m 68ms/step\n",
            "Predicted Genre (Neural Network): ['Underground Rap']\n"
          ]
        }
      ]
    },
    {
      "cell_type": "code",
      "source": [
        "model.save('neural_network_genre.h5')\n"
      ],
      "metadata": {
        "colab": {
          "base_uri": "https://localhost:8080/"
        },
        "id": "yknCbD2_QTqt",
        "outputId": "4b4670ea-08df-4480-c359-8b1d5b5a2c03"
      },
      "execution_count": null,
      "outputs": [
        {
          "output_type": "stream",
          "name": "stderr",
          "text": [
            "WARNING:absl:You are saving your model as an HDF5 file via `model.save()` or `keras.saving.save_model(model)`. This file format is considered legacy. We recommend using instead the native Keras format, e.g. `model.save('my_model.keras')` or `keras.saving.save_model(model, 'my_model.keras')`. \n"
          ]
        }
      ]
    }
  ]
}